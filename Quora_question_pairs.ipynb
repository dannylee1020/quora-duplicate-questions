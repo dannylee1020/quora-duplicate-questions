{
  "nbformat": 4,
  "nbformat_minor": 0,
  "metadata": {
    "colab": {
      "name": "Quora question pairs",
      "provenance": [],
      "collapsed_sections": [],
      "toc_visible": true,
      "mount_file_id": "1VU5XSaJk0C8Fsv5IsKUCnVjZ6g4nTsGL",
      "authorship_tag": "ABX9TyMQddh31cipA/QqTyj/WTCz"
    },
    "kernelspec": {
      "name": "python3",
      "display_name": "Python 3"
    },
    "accelerator": "GPU"
  },
  "cells": [
    {
      "cell_type": "markdown",
      "metadata": {
        "id": "f_ytWF5GWF7D",
        "colab_type": "text"
      },
      "source": [
        "# Data Prep"
      ]
    },
    {
      "cell_type": "markdown",
      "metadata": {
        "id": "qGi37mwAWLbq",
        "colab_type": "text"
      },
      "source": [
        "## Import packages"
      ]
    },
    {
      "cell_type": "code",
      "metadata": {
        "id": "OspBiT7qWqZu",
        "colab_type": "code",
        "colab": {
          "base_uri": "https://localhost:8080/",
          "height": 852
        },
        "outputId": "ff1317a6-ef21-4bf7-9e9a-4f498b124e3f"
      },
      "source": [
        "import nltk\n",
        "nltk.download('popular')"
      ],
      "execution_count": null,
      "outputs": [
        {
          "output_type": "stream",
          "text": [
            "[nltk_data] Downloading collection 'popular'\n",
            "[nltk_data]    | \n",
            "[nltk_data]    | Downloading package cmudict to /root/nltk_data...\n",
            "[nltk_data]    |   Unzipping corpora/cmudict.zip.\n",
            "[nltk_data]    | Downloading package gazetteers to /root/nltk_data...\n",
            "[nltk_data]    |   Unzipping corpora/gazetteers.zip.\n",
            "[nltk_data]    | Downloading package genesis to /root/nltk_data...\n",
            "[nltk_data]    |   Unzipping corpora/genesis.zip.\n",
            "[nltk_data]    | Downloading package gutenberg to /root/nltk_data...\n",
            "[nltk_data]    |   Unzipping corpora/gutenberg.zip.\n",
            "[nltk_data]    | Downloading package inaugural to /root/nltk_data...\n",
            "[nltk_data]    |   Unzipping corpora/inaugural.zip.\n",
            "[nltk_data]    | Downloading package movie_reviews to\n",
            "[nltk_data]    |     /root/nltk_data...\n",
            "[nltk_data]    |   Unzipping corpora/movie_reviews.zip.\n",
            "[nltk_data]    | Downloading package names to /root/nltk_data...\n",
            "[nltk_data]    |   Unzipping corpora/names.zip.\n",
            "[nltk_data]    | Downloading package shakespeare to /root/nltk_data...\n",
            "[nltk_data]    |   Unzipping corpora/shakespeare.zip.\n",
            "[nltk_data]    | Downloading package stopwords to /root/nltk_data...\n",
            "[nltk_data]    |   Unzipping corpora/stopwords.zip.\n",
            "[nltk_data]    | Downloading package treebank to /root/nltk_data...\n",
            "[nltk_data]    |   Unzipping corpora/treebank.zip.\n",
            "[nltk_data]    | Downloading package twitter_samples to\n",
            "[nltk_data]    |     /root/nltk_data...\n",
            "[nltk_data]    |   Unzipping corpora/twitter_samples.zip.\n",
            "[nltk_data]    | Downloading package omw to /root/nltk_data...\n",
            "[nltk_data]    |   Unzipping corpora/omw.zip.\n",
            "[nltk_data]    | Downloading package wordnet to /root/nltk_data...\n",
            "[nltk_data]    |   Unzipping corpora/wordnet.zip.\n",
            "[nltk_data]    | Downloading package wordnet_ic to /root/nltk_data...\n",
            "[nltk_data]    |   Unzipping corpora/wordnet_ic.zip.\n",
            "[nltk_data]    | Downloading package words to /root/nltk_data...\n",
            "[nltk_data]    |   Unzipping corpora/words.zip.\n",
            "[nltk_data]    | Downloading package maxent_ne_chunker to\n",
            "[nltk_data]    |     /root/nltk_data...\n",
            "[nltk_data]    |   Unzipping chunkers/maxent_ne_chunker.zip.\n",
            "[nltk_data]    | Downloading package punkt to /root/nltk_data...\n",
            "[nltk_data]    |   Unzipping tokenizers/punkt.zip.\n",
            "[nltk_data]    | Downloading package snowball_data to\n",
            "[nltk_data]    |     /root/nltk_data...\n",
            "[nltk_data]    | Downloading package averaged_perceptron_tagger to\n",
            "[nltk_data]    |     /root/nltk_data...\n",
            "[nltk_data]    |   Unzipping taggers/averaged_perceptron_tagger.zip.\n",
            "[nltk_data]    | \n",
            "[nltk_data]  Done downloading collection popular\n"
          ],
          "name": "stdout"
        },
        {
          "output_type": "execute_result",
          "data": {
            "text/plain": [
              "True"
            ]
          },
          "metadata": {
            "tags": []
          },
          "execution_count": 1
        }
      ]
    },
    {
      "cell_type": "code",
      "metadata": {
        "id": "aWN6MlltWEAw",
        "colab_type": "code",
        "colab": {}
      },
      "source": [
        "import numpy as np\n",
        "import json\n",
        "import pandas as pd\n",
        "from nltk.tokenize import word_tokenize\n",
        "from keras.preprocessing.text import Tokenizer\n",
        "from keras.preprocessing.sequence import pad_sequences\n",
        "import csv"
      ],
      "execution_count": null,
      "outputs": []
    },
    {
      "cell_type": "markdown",
      "metadata": {
        "id": "84nUGnWzYEaG",
        "colab_type": "text"
      },
      "source": [
        "## Initialize variables"
      ]
    },
    {
      "cell_type": "code",
      "metadata": {
        "id": "AKOHHe5dYCd9",
        "colab_type": "code",
        "colab": {}
      },
      "source": [
        "BASE_DIR = '/content/drive/My Drive/Machine Learning/Data/Quora/'\n",
        "TRAIN_DATA = 'quora_train.csv'\n",
        "GLOVE_FILE = 'glove.6B.300d.txt'\n",
        "Q1_TRAIN_FILE = 'q1_train.npy'\n",
        "Q2_TRAIN_FILE = 'q2_train.npy'\n",
        "LABEL_FILE = 'target_labels.npy'\n",
        "GLOVE_EMBEDDING_MATRIX_FILE = 'glove_word_embedding_matrix.npy'\n",
        "NB_WORDS_DATA_FILE = 'nb_words.json'\n",
        "MAX_NB_WORDS = 200000\n",
        "MAX_SEQUENCE_LENGTH = 50\n",
        "EMBEDDING_DIM = 300"
      ],
      "execution_count": null,
      "outputs": []
    },
    {
      "cell_type": "code",
      "metadata": {
        "id": "_VgsvchVUpQV",
        "colab_type": "code",
        "colab": {}
      },
      "source": [
        "train_data = pd.read_csv(BASE_DIR + TRAIN_DATA)"
      ],
      "execution_count": null,
      "outputs": []
    },
    {
      "cell_type": "markdown",
      "metadata": {
        "id": "NX6DguXSZTsi",
        "colab_type": "text"
      },
      "source": [
        "## Download and clean questions"
      ]
    },
    {
      "cell_type": "code",
      "metadata": {
        "id": "3p4IqdcyXJlC",
        "colab_type": "code",
        "colab": {
          "base_uri": "https://localhost:8080/",
          "height": 34
        },
        "outputId": "47a6e010-46c8-4931-d091-a09a390ee049"
      },
      "source": [
        "question_1 = []\n",
        "question_2 = []\n",
        "is_duplicate = []\n",
        "\n",
        "with open(BASE_DIR + TRAIN_DATA, encoding = 'utf-8') as csvfile:\n",
        "  reader = csv.DictReader(csvfile)\n",
        "  for row in reader:\n",
        "    question_1.append(row['question1'])\n",
        "    question_2.append(row['question2'])\n",
        "    is_duplicate.append(row['is_duplicate'])\n",
        "\n",
        "print(f\"# of questions: {len(question_1)}\")"
      ],
      "execution_count": null,
      "outputs": [
        {
          "output_type": "stream",
          "text": [
            "# of questions: 404290\n"
          ],
          "name": "stdout"
        }
      ]
    },
    {
      "cell_type": "code",
      "metadata": {
        "id": "EHLeH7XQaUMY",
        "colab_type": "code",
        "colab": {}
      },
      "source": [
        "# functions for cleaning questions\n",
        "def load_doc(filepath):\n",
        "  file = open(filepath, 'r')\n",
        "  text = file.read()\n",
        "  file.close()\n",
        "  return text\n",
        "\n",
        "def clean_question(question):\n",
        "  tokens = word_tokenize(question)\n",
        "  tokens = [w for w in tokens if w.isalpha()]\n",
        "  tokens = ' '.join(tokens)\n",
        "  return tokens\n",
        "\n",
        "def process_question(question):\n",
        "  clean_q = []\n",
        "  for q in question:\n",
        "    q  = str(q)\n",
        "    qs = clean_question(q)\n",
        "    clean_q.append(qs)\n",
        "  return clean_q\n",
        "\n",
        "question1_clean = process_question(question_1)\n",
        "question2_clean = process_question(question_2)"
      ],
      "execution_count": null,
      "outputs": []
    },
    {
      "cell_type": "markdown",
      "metadata": {
        "id": "GsRjZAxqsCyM",
        "colab_type": "text"
      },
      "source": [
        "## Tokenize words"
      ]
    },
    {
      "cell_type": "code",
      "metadata": {
        "id": "Vl6KAZjhlENB",
        "colab_type": "code",
        "colab": {
          "base_uri": "https://localhost:8080/",
          "height": 34
        },
        "outputId": "6e622fd3-e871-41bc-a19f-90d2629fd503"
      },
      "source": [
        "questions = question1_clean + question2_clean\n",
        "tokenizer = Tokenizer()\n",
        "tokenizer.fit_on_texts(questions)\n",
        "\n",
        "question1_word_sequences = tokenizer.texts_to_sequences(question1_clean)\n",
        "question2_word_sequences = tokenizer.texts_to_sequences(question2_clean)\n",
        "\n",
        "word_index = tokenizer.word_index\n",
        "print(f\"Words in index: {len(word_index)}\")"
      ],
      "execution_count": null,
      "outputs": [
        {
          "output_type": "stream",
          "text": [
            "Words in index: 76328\n"
          ],
          "name": "stdout"
        }
      ]
    },
    {
      "cell_type": "markdown",
      "metadata": {
        "id": "ZOrpSS5FuIyI",
        "colab_type": "text"
      },
      "source": [
        "## Process Embedding"
      ]
    },
    {
      "cell_type": "code",
      "metadata": {
        "id": "L5NJuNHRsnsx",
        "colab_type": "code",
        "colab": {
          "base_uri": "https://localhost:8080/",
          "height": 52
        },
        "outputId": "ab782a24-7076-4793-bd39-3cfbc6b4553b"
      },
      "source": [
        "# define some functions to process pre-trained embedding\n",
        "nb_words = min(MAX_NB_WORDS, len(word_index))\n",
        "\n",
        "def load_embedding(filepath):\n",
        "  file = open(filepath, 'r', encoding = 'utf-8')\n",
        "  embeddings = {}\n",
        "  for line in file:\n",
        "    values = line.split(' ')\n",
        "    word = values[0]\n",
        "    vec = np.asarray(values[1:], dtype = 'float32')\n",
        "    embeddings[word] = vec\n",
        "  return embeddings\n",
        "\n",
        "def get_weight_matrix(embedding):\n",
        "  weight_matrix = np.zeros((nb_words+1, EMBEDDING_DIM))\n",
        "  for word, i in word_index.items():\n",
        "    if i > MAX_NB_WORDS:\n",
        "      continue\n",
        "    embedding_vector = embedding.get(word)\n",
        "    if embedding_vector is not None:\n",
        "      weight_matrix[i] = embedding_vector\n",
        "  return weight_matrix\n",
        "\n",
        "raw_embedding = load_embedding(BASE_DIR + GLOVE_FILE)\n",
        "word_embedding_matrix = get_weight_matrix(raw_embedding)\n",
        "print(f\"embedding shape: {word_embedding_matrix.shape}\")\n",
        "print(f\"Word embeddings: {len(raw_embedding)}\")"
      ],
      "execution_count": null,
      "outputs": [
        {
          "output_type": "stream",
          "text": [
            "embedding shape: (76329, 300)\n",
            "Word embeddings: 400001\n"
          ],
          "name": "stdout"
        }
      ]
    },
    {
      "cell_type": "markdown",
      "metadata": {
        "id": "z83D8SL-yAxo",
        "colab_type": "text"
      },
      "source": [
        "## Prepare training data"
      ]
    },
    {
      "cell_type": "code",
      "metadata": {
        "id": "XBoJ-zLRw7SZ",
        "colab_type": "code",
        "colab": {
          "base_uri": "https://localhost:8080/",
          "height": 70
        },
        "outputId": "d4f25fa5-ab68-49ed-c2e0-ac94c5526c0d"
      },
      "source": [
        "q1_data = pad_sequences(question1_word_sequences, maxlen = MAX_SEQUENCE_LENGTH, padding = 'post')\n",
        "q2_data = pad_sequences(question2_word_sequences, maxlen = MAX_SEQUENCE_LENGTH, padding = 'post')\n",
        "labels = np.array(is_duplicate, dtype = 'int')\n",
        "\n",
        "print(f\"Shape of q1_data: {q1_data.shape}\")\n",
        "print(f\"shape of q2_data: {q2_data.shape}\")\n",
        "print(f\"Shape of target class: {labels.shape}\")"
      ],
      "execution_count": null,
      "outputs": [
        {
          "output_type": "stream",
          "text": [
            "Shape of q1_data: (404290, 50)\n",
            "shape of q2_data: (404290, 50)\n",
            "Shape of target class: (404290,)\n"
          ],
          "name": "stdout"
        }
      ]
    },
    {
      "cell_type": "markdown",
      "metadata": {
        "id": "fIPVPNVc0z35",
        "colab_type": "text"
      },
      "source": [
        "## Save processed data"
      ]
    },
    {
      "cell_type": "code",
      "metadata": {
        "id": "_xnqLISn0y82",
        "colab_type": "code",
        "colab": {}
      },
      "source": [
        "np.save(open(BASE_DIR + Q1_TRAIN_FILE, 'wb'), q1_data)\n",
        "np.save(open(BASE_DIR + Q2_TRAIN_FILE, 'wb'), q2_data)\n",
        "np.save(open(BASE_DIR + LABEL_FILE, 'wb'), labels)\n",
        "np.save(open(BASE_DIR + GLOVE_EMBEDDING_MATRIX_FILE, 'wb'), word_embedding_matrix)\n",
        "with open(BASE_DIR + NB_WORDS_DATA_FILE,'w') as f:\n",
        "  json.dump({'nb_words': nb_words}, f)"
      ],
      "execution_count": null,
      "outputs": []
    },
    {
      "cell_type": "markdown",
      "metadata": {
        "id": "FIc22HY218no",
        "colab_type": "text"
      },
      "source": [
        "# Build and Train Model"
      ]
    },
    {
      "cell_type": "markdown",
      "metadata": {
        "id": "I7l6iz1A2Q8L",
        "colab_type": "text"
      },
      "source": [
        "## Import packages"
      ]
    },
    {
      "cell_type": "code",
      "metadata": {
        "id": "s4cNfbA92AtV",
        "colab_type": "code",
        "colab": {}
      },
      "source": [
        "import time, json\n",
        "from keras.models import Model, load_model\n",
        "from keras.layers import Input, Dense, Concatenate, Dropout, BatchNormalization, LSTM, Bidirectional\n",
        "from keras.layers.embeddings import Embedding\n",
        "from keras.callbacks import ModelCheckpoint\n",
        "from keras.optimizers import Adam\n",
        "from sklearn.model_selection import train_test_split\n",
        "from sklearn.metrics import classification_report"
      ],
      "execution_count": null,
      "outputs": []
    },
    {
      "cell_type": "markdown",
      "metadata": {
        "id": "4KyuIqSI2nUg",
        "colab_type": "text"
      },
      "source": [
        "## initialize variables"
      ]
    },
    {
      "cell_type": "code",
      "metadata": {
        "id": "S0zJoPud2kX-",
        "colab_type": "code",
        "colab": {}
      },
      "source": [
        "LSTM_MODEL_PATH = 'lstm_quora_question_pairs.h5'\n",
        "BI_MODEL_PATH = 'bi_quora_question_pairs.h5'\n",
        "PLOT_MODEL = 'bi_model.png'\n",
        "MAX_SEQUENCE_LENGTH = 50\n",
        "GLOVE_EMBEDDING_DIM = 300\n",
        "VALIDATION_SPLIT = 0.3\n",
        "EPOCHS = 25\n",
        "DROPOUT = 0.2\n",
        "BATCH_SIZE = 32"
      ],
      "execution_count": null,
      "outputs": []
    },
    {
      "cell_type": "markdown",
      "metadata": {
        "id": "uMx3j-_c4bV8",
        "colab_type": "text"
      },
      "source": [
        "## Load and split data"
      ]
    },
    {
      "cell_type": "code",
      "metadata": {
        "id": "x3wrHBHi4cvc",
        "colab_type": "code",
        "colab": {}
      },
      "source": [
        "q1_data = np.load(open(BASE_DIR + Q1_TRAIN_FILE, 'rb'))\n",
        "q2_data = np.load(open(BASE_DIR + Q2_TRAIN_FILE, 'rb'))\n",
        "glove_embedding_matrix = np.load(open(BASE_DIR + GLOVE_EMBEDDING_MATRIX_FILE, 'rb'))\n",
        "labels = np.load(open(BASE_DIR + LABEL_FILE, 'rb'))\n",
        "with open(BASE_DIR + NB_WORDS_DATA_FILE, 'r') as f:\n",
        "  nb_words = json.load(f)['nb_words']\n",
        "      \n",
        "\n",
        "# split data\n",
        "X = np.stack((q1_data, q2_data), axis = 1)\n",
        "X_train, X_test, y_train, y_test = train_test_split(X, labels, test_size = VALIDATION_SPLIT, random_state = 42)\n",
        "\n",
        "Q1_train = X_train[:, 0]\n",
        "Q2_train = X_train[:, 1]\n",
        "Q1_test = X_test[:, 0]\n",
        "Q2_test = X_test[:, 1]"
      ],
      "execution_count": null,
      "outputs": []
    },
    {
      "cell_type": "markdown",
      "metadata": {
        "id": "CKLAD2pd5feC",
        "colab_type": "text"
      },
      "source": [
        "## Build Model"
      ]
    },
    {
      "cell_type": "code",
      "metadata": {
        "id": "mAD0OBl5-Lv_",
        "colab_type": "code",
        "colab": {}
      },
      "source": [
        "# using GloVe embedding\n",
        "\n",
        "q1_input = Input(shape = (MAX_SEQUENCE_LENGTH,))\n",
        "q2_input = Input(shape = (MAX_SEQUENCE_LENGTH,))\n",
        "\n",
        "q1 = Embedding(nb_words+1, \n",
        "               GLOVE_EMBEDDING_DIM, \n",
        "               input_length = MAX_SEQUENCE_LENGTH,\n",
        "               weights = [glove_embedding_matrix], \n",
        "               trainable = False)(q1_input)\n",
        "q1 = Bidirectional(LSTM(128))(q1)\n",
        "\n",
        "q2 = Embedding(nb_words+1,\n",
        "               GLOVE_EMBEDDING_DIM,\n",
        "               input_length = MAX_SEQUENCE_LENGTH,\n",
        "               weights = [glove_embedding_matrix],\n",
        "               trainable = False)(q2_input)\n",
        "q2 = Bidirectional(LSTM(128))(q2)\n",
        "\n",
        "merged = Concatenate()([q1,q2])\n",
        "merged = Dense(128, activation = 'relu')(merged)\n",
        "merged = BatchNormalization()(merged)\n",
        "merged = Dropout(DROPOUT)(merged)\n",
        "merged = Dense(64, activation = 'relu')(merged)\n",
        "merged = BatchNormalization()(merged)\n",
        "merged = Dropout(DROPOUT)(merged)\n",
        "merged = Dense(32, activation = 'relu')(merged)\n",
        "merged = BatchNormalization()(merged)\n",
        "merged = Dropout(DROPOUT)(merged)\n",
        "\n",
        "merged = Dense(1, activation = 'sigmoid')(merged)\n",
        "\n",
        "model = Model(inputs = [q1_input, q2_input], outputs = merged)\n",
        "opt = Adam(lr = 0.001)\n",
        "model.compile(loss = 'binary_crossentropy', optimizer = opt, metrics = ['accuracy'])"
      ],
      "execution_count": null,
      "outputs": []
    },
    {
      "cell_type": "code",
      "metadata": {
        "id": "jNKPZSkDTusb",
        "colab_type": "code",
        "colab": {
          "base_uri": "https://localhost:8080/",
          "height": 923
        },
        "outputId": "59b7f675-66d4-4c91-eecc-b8ace5fb2d0b"
      },
      "source": [
        "t0 = time.time()\n",
        "callbacks = ModelCheckpoint(BASE_DIR+BI_MODEL_PATH, monitor = 'val_loss',\n",
        "                            verbose = 0, save_best_only = True)\n",
        "history = model.fit([Q1_train, Q2_train], \n",
        "                    y_train,\n",
        "                    verbose = 2,\n",
        "                    batch_size = BATCH_SIZE,\n",
        "                    epochs = EPOCHS,\n",
        "                    callbacks = [callbacks], \n",
        "                    validation_split = VALIDATION_SPLIT)\n",
        "t1 = time.time()\n",
        "print(f\"total training time: {round((t1-t0)/60,2)} minutes\")"
      ],
      "execution_count": null,
      "outputs": [
        {
          "output_type": "stream",
          "text": [
            "Epoch 1/25\n",
            "6191/6191 - 123s - loss: 0.5627 - accuracy: 0.7103 - val_loss: 0.5166 - val_accuracy: 0.7393\n",
            "Epoch 2/25\n",
            "6191/6191 - 123s - loss: 0.5012 - accuracy: 0.7538 - val_loss: 0.4816 - val_accuracy: 0.7611\n",
            "Epoch 3/25\n",
            "6191/6191 - 121s - loss: 0.4647 - accuracy: 0.7775 - val_loss: 0.4645 - val_accuracy: 0.7743\n",
            "Epoch 4/25\n",
            "6191/6191 - 121s - loss: 0.4288 - accuracy: 0.7993 - val_loss: 0.4611 - val_accuracy: 0.7779\n",
            "Epoch 5/25\n",
            "6191/6191 - 121s - loss: 0.3876 - accuracy: 0.8236 - val_loss: 0.4782 - val_accuracy: 0.7662\n",
            "Epoch 6/25\n",
            "6191/6191 - 119s - loss: 0.3524 - accuracy: 0.8437 - val_loss: 0.4704 - val_accuracy: 0.7824\n",
            "Epoch 7/25\n",
            "6191/6191 - 117s - loss: 0.3178 - accuracy: 0.8631 - val_loss: 0.4859 - val_accuracy: 0.7844\n",
            "Epoch 8/25\n",
            "6191/6191 - 117s - loss: 0.2836 - accuracy: 0.8817 - val_loss: 0.5224 - val_accuracy: 0.7619\n",
            "Epoch 9/25\n",
            "6191/6191 - 116s - loss: 0.2528 - accuracy: 0.8963 - val_loss: 0.5407 - val_accuracy: 0.7803\n",
            "Epoch 10/25\n",
            "6191/6191 - 116s - loss: 0.2257 - accuracy: 0.9097 - val_loss: 0.5696 - val_accuracy: 0.7810\n",
            "Epoch 11/25\n",
            "6191/6191 - 116s - loss: 0.2028 - accuracy: 0.9201 - val_loss: 0.6218 - val_accuracy: 0.7820\n",
            "Epoch 12/25\n",
            "6191/6191 - 116s - loss: 0.1837 - accuracy: 0.9288 - val_loss: 0.6270 - val_accuracy: 0.7874\n",
            "Epoch 13/25\n",
            "6191/6191 - 117s - loss: 0.1707 - accuracy: 0.9352 - val_loss: 0.6255 - val_accuracy: 0.7763\n",
            "Epoch 14/25\n",
            "6191/6191 - 116s - loss: 0.1561 - accuracy: 0.9413 - val_loss: 0.7069 - val_accuracy: 0.7759\n",
            "Epoch 15/25\n",
            "6191/6191 - 115s - loss: 0.1463 - accuracy: 0.9465 - val_loss: 0.6968 - val_accuracy: 0.7804\n",
            "Epoch 16/25\n",
            "6191/6191 - 117s - loss: 0.1351 - accuracy: 0.9512 - val_loss: 0.7308 - val_accuracy: 0.7799\n",
            "Epoch 17/25\n",
            "6191/6191 - 118s - loss: 0.1263 - accuracy: 0.9542 - val_loss: 0.7650 - val_accuracy: 0.7829\n",
            "Epoch 18/25\n",
            "6191/6191 - 120s - loss: 0.1160 - accuracy: 0.9582 - val_loss: 0.7461 - val_accuracy: 0.7794\n",
            "Epoch 19/25\n",
            "6191/6191 - 119s - loss: 0.1122 - accuracy: 0.9594 - val_loss: 0.7531 - val_accuracy: 0.7803\n",
            "Epoch 20/25\n",
            "6191/6191 - 118s - loss: 0.1039 - accuracy: 0.9632 - val_loss: 0.8230 - val_accuracy: 0.7752\n",
            "Epoch 21/25\n",
            "6191/6191 - 120s - loss: 0.1010 - accuracy: 0.9641 - val_loss: 0.7846 - val_accuracy: 0.7840\n",
            "Epoch 22/25\n",
            "6191/6191 - 125s - loss: 0.0979 - accuracy: 0.9652 - val_loss: 0.7555 - val_accuracy: 0.7778\n",
            "Epoch 23/25\n",
            "6191/6191 - 125s - loss: 0.0924 - accuracy: 0.9676 - val_loss: 0.8486 - val_accuracy: 0.7773\n",
            "Epoch 24/25\n",
            "6191/6191 - 123s - loss: 0.0908 - accuracy: 0.9676 - val_loss: 0.8821 - val_accuracy: 0.7773\n",
            "Epoch 25/25\n",
            "6191/6191 - 124s - loss: 0.0848 - accuracy: 0.9704 - val_loss: 0.8708 - val_accuracy: 0.7761\n",
            "total training time: 49.93 minutes\n"
          ],
          "name": "stdout"
        }
      ]
    },
    {
      "cell_type": "markdown",
      "metadata": {
        "id": "0NwcUDyy4Kg4",
        "colab_type": "text"
      },
      "source": [
        "## Evaluate the model with best validation accuracy"
      ]
    },
    {
      "cell_type": "code",
      "metadata": {
        "id": "M3KbQsPo2QWT",
        "colab_type": "code",
        "colab": {
          "base_uri": "https://localhost:8080/",
          "height": 34
        },
        "outputId": "6a605c31-707d-4331-ab55-2ee8c262c8b1"
      },
      "source": [
        "model = load_model(BASE_DIR + BI_MODEL_PATH)\n",
        "loss, accuracy = model.evaluate([Q1_test, Q2_test], y_test, verbose = 0)\n",
        "print(f\"loss = {loss}, accuracy = {accuracy}\")"
      ],
      "execution_count": null,
      "outputs": [
        {
          "output_type": "stream",
          "text": [
            "loss = 0.46072694659233093, accuracy = 0.778327465057373\n"
          ],
          "name": "stdout"
        }
      ]
    },
    {
      "cell_type": "code",
      "metadata": {
        "id": "o8J-7Ovo2yym",
        "colab_type": "code",
        "colab": {}
      },
      "source": [
        "y_pred = model.predict([Q1_test, Q2_test])\n",
        "y_pred_class = np.round(y_pred) # argmax for categorical crossentropy"
      ],
      "execution_count": null,
      "outputs": []
    },
    {
      "cell_type": "code",
      "metadata": {
        "id": "4g78FaKW5JMa",
        "colab_type": "code",
        "colab": {
          "base_uri": "https://localhost:8080/",
          "height": 176
        },
        "outputId": "af4aa3fe-e16c-406f-a3d1-28030809461a"
      },
      "source": [
        "class_rep = classification_report(y_pred_class, y_test)\n",
        "print(class_rep)"
      ],
      "execution_count": null,
      "outputs": [
        {
          "output_type": "stream",
          "text": [
            "              precision    recall  f1-score   support\n",
            "\n",
            "         0.0       0.84      0.81      0.83     78790\n",
            "         1.0       0.67      0.71      0.69     42497\n",
            "\n",
            "    accuracy                           0.78    121287\n",
            "   macro avg       0.76      0.76      0.76    121287\n",
            "weighted avg       0.78      0.78      0.78    121287\n",
            "\n"
          ],
          "name": "stdout"
        }
      ]
    },
    {
      "cell_type": "code",
      "metadata": {
        "id": "9gJboGAvYWHe",
        "colab_type": "code",
        "colab": {}
      },
      "source": [
        "from keras.utils import plot_model\n",
        "plot_model(model, to_file = BASE_DIR + PLOT_MODEL, show_shapes = True, show_layer_names = True)"
      ],
      "execution_count": null,
      "outputs": []
    }
  ]
}